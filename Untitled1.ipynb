{
 "cells": [
  {
   "cell_type": "code",
   "execution_count": 1,
   "metadata": {},
   "outputs": [
    {
     "data": {
      "text/plain": [
       "'Purpose: \\nIntroduction - \\n\\n'"
      ]
     },
     "execution_count": 1,
     "metadata": {},
     "output_type": "execute_result"
    }
   ],
   "source": [
    "'''Created By: Jake Fredrich'''\n",
    "'''Date: 11/13/2019'''"
   ]
  },
  {
   "cell_type": "markdown",
   "metadata": {},
   "source": [
    "\n",
    "# Where in Portland, OR should I purchase a home?\n",
    "\n",
    "\n",
    "My girlfriend recently was accepted to OHSU, in Portland, OR.  She plans to purchase a home when she moves to Portland, and I would like to help determine the neighborhoods she should consider.\n",
    "For this, ideally we want to target an area that has a low crime rate, and which has an abundance of venues(that include coffee shops and other venues that are ideal for studying), and is not too heavily populated.\n",
    "To do this analysis, we will use the following information:\n",
    "\n",
    "<br> \n",
    "<ul>\n",
    "  <li>Crime statistics provided by portlandoregon.gov for 2015-2019</li>\n",
    "  <li>The population of each each Neighborhood from the 2010 census</li>\n",
    "  <li>The foursquare api to retrieve the current number and categories of venues in each neighborhood</li>\n",
    "</ul>\n",
    "<br> \n",
    "Using the above information, we will\n",
    "<ul>\n",
    "  <li>Compare crime from 2015 to 2019 to get an idea of which neighborhoods are showing a decline in crime -- and which are therefore also possible candidates to purchase a home</li>\n",
    "  <li>Look at the proportion of venues/population in each neighborhood</li>\n",
    "  <li>Cluster neighborhoods to find areas with a relatively high number of venues with a low amount of crime -- therefore possible candidates for a good neighborhood to purchase a home</li>\n",
    "</ul>\n",
    "<br> \n",
    "<br>\n",
    "\n",
    "### Data used in this project\n",
    "<br>\n",
    "\n",
    "---\n",
    "<br>\n",
    "<br>\n",
    "Crime Statistics of Portland, Oregon(2017, 2018, 2019) https://www12.statcan.gc.ca/census-recensement/2016/dp-pd/hlt-fst/pd-pl/comprehensive.cfm\n",
    "<ul>\n",
    "  <li>This information will be used to calculate the growth rate of crime</li>\n",
    "  <li>This data set has 3 columns of interest: Address / Neighborhood/ OccurDate</li>\n",
    "</ul>\n",
    "<br> \n",
    "Portland, Oregon population datahttps://www.portlandoregon.gov/civic/28387\n",
    "<br> \n",
    "<ul>\n",
    "  <li>This information includes the Population in each Neighborhood, as shown in the 2010 census.</li>\n",
    "  <li>this data has two columns of interest: Neighborhood / Population</li>\n",
    "</ul>\n",
    "<br>\n",
    "FourSquare Api:\n",
    "<ul>\n",
    "  <li>to get number of pet stores/services per Neighborhood</li>\n",
    "  <li>specifically, this query will be filtered to look for only the following two </li>categoryIds: [Insert ID]=[Insert Category] , [Insert ID]=[Insert Category]\n",
    "  <li>a sample query looks like this: https://api.foursquare.com/v2/venues/explore?client_id=</li>\n",
    "</ul>\n",
    "<br>\n",
    "\n",
    "geopy:\n",
    "<ul>\n",
    "  <li>to get lat/long coordinates for each Neighborhood, which is used when calling Foursquare API for each Neighborhood</li>\n",
    "</ul>\n",
    "<br>\n",
    "<br>\n"
   ]
  },
  {
   "cell_type": "markdown",
   "metadata": {},
   "source": [
    "### IMPORTS"
   ]
  },
  {
   "cell_type": "code",
   "execution_count": 2,
   "metadata": {},
   "outputs": [
    {
     "name": "stdout",
     "output_type": "stream",
     "text": [
      "Packages imported\n"
     ]
    }
   ],
   "source": [
    "'''IMPORTS REQUIRED'''\n",
    "#from bs4 import BeautifulSoup # used for pulling data out of HTML and XML files\n",
    "import json # library to handle JSON files\n",
    "import numpy as np\n",
    "import pandas as pd\n",
    "import requests # library to handle API requests\n",
    "from pandas.io.json import json_normalize #used to transform the JSON file into a pandas Dataframe\n",
    "\n",
    "import matplotlib.cm as cm # for plotting modules\n",
    "import matplotlib.colors as colors # for plotting modules\n",
    "import urllib # for plotting modules\n",
    "\n",
    "from sklearn.cluster import KMeans # import k-means from clustering\n",
    "#!conda install -c conda-forge geopy --yes \n",
    "from geopy.geocoders import Nominatim # Used to convert addresses into latitude and longitudes\n",
    "#!conda install -c conda-forge folium=0.5.0 --yes\n",
    "\n",
    "import folium # Used to render maps\n",
    "print(\"Packages imported\")"
   ]
  },
  {
   "cell_type": "code",
   "execution_count": null,
   "metadata": {},
   "outputs": [],
   "source": [
    "file_2015 = \"Portland_OR_CRIME_2015\"\n",
    "file_2016 = \"Portland_OR_CRIME_2015\"\n",
    "file_2017 = \"Portland_OR_CRIME_2015\"\n",
    "file_2018 = \"Portland_OR_CRIME_2015\""
   ]
  }
 ],
 "metadata": {
  "kernelspec": {
   "display_name": "Python 3",
   "language": "python",
   "name": "python3"
  },
  "language_info": {
   "codemirror_mode": {
    "name": "ipython",
    "version": 3
   },
   "file_extension": ".py",
   "mimetype": "text/x-python",
   "name": "python",
   "nbconvert_exporter": "python",
   "pygments_lexer": "ipython3",
   "version": "3.7.3"
  }
 },
 "nbformat": 4,
 "nbformat_minor": 2
}
